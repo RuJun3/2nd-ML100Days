{
 "cells": [
  {
   "cell_type": "markdown",
   "metadata": {},
   "source": [
    "## Work\n",
    "1. 請嘗試將 preproc_x 替換成以每筆資料的 min/max 進行標準化至 -1 ~ 1 間，再進行訓練\n",
    "2. 請嘗試將 mlp 疊更深 (e.g 5~10 層)，進行訓練後觀察 learning curve 的走勢\n",
    "3. (optional) 請改用 GPU 進行訓練 (如果你有 GPU 的話)，比較使用 CPU 與 GPU 的訓練速度"
   ]
  },
  {
   "cell_type": "code",
   "execution_count": 1,
   "metadata": {},
   "outputs": [],
   "source": [
    "## \n",
    "\"\"\"\n",
    "Your code here (optional)\n",
    "確認硬體資源\n",
    "\"\"\"\n"
   ]
  },
  {
   "cell_type": "code",
   "execution_count": 1,
   "metadata": {},
   "outputs": [
    {
     "name": "stderr",
     "output_type": "stream",
     "text": [
      "Using TensorFlow backend.\n"
     ]
    }
   ],
   "source": [
    "import os\n",
    "import keras\n",
    "\n",
    "# 請嘗試設定 GPU：os.environ\n"
   ]
  },
  {
   "cell_type": "code",
   "execution_count": 2,
   "metadata": {},
   "outputs": [],
   "source": [
    "train, test = keras.datasets.cifar10.load_data()"
   ]
  },
  {
   "cell_type": "code",
   "execution_count": 9,
   "metadata": {},
   "outputs": [],
   "source": [
    "## 資料前處理\n",
    "\"\"\"\n",
    "Your code here\n",
    "\"\"\"\n",
    "\n",
    "def preproc_x(x, flatten=True):\n",
    "    x = (x-x.min(axis=0)) / (x.max(axis=0)-x.min(axis=0))\n",
    "    if flatten:\n",
    "        x = x.reshape((len(x), -1))\n",
    "    return x\n",
    "\n",
    "def preproc_y(y, num_classes=10):\n",
    "    if y.shape[-1] == 1:\n",
    "        y = keras.utils.to_categorical(y, num_classes)\n",
    "    return y   "
   ]
  },
  {
   "cell_type": "code",
   "execution_count": 10,
   "metadata": {},
   "outputs": [],
   "source": [
    "x_train, y_train = train\n",
    "x_test, y_test = test\n",
    "\n",
    "# Preproc the inputs\n",
    "x_train = preproc_x(x_train)\n",
    "x_test = preproc_x(x_test)\n",
    "\n",
    "# Preprc the outputs\n",
    "y_train = preproc_y(y_train)\n",
    "y_test = preproc_y(y_test)"
   ]
  },
  {
   "cell_type": "code",
   "execution_count": 11,
   "metadata": {},
   "outputs": [
    {
     "name": "stdout",
     "output_type": "stream",
     "text": [
      "_________________________________________________________________\n",
      "Layer (type)                 Output Shape              Param #   \n",
      "=================================================================\n",
      "input_2 (InputLayer)         (None, 3072)              0         \n",
      "_________________________________________________________________\n",
      "hidden_layer1 (Dense)        (None, 512)               1573376   \n",
      "_________________________________________________________________\n",
      "hidden_layer2 (Dense)        (None, 256)               131328    \n",
      "_________________________________________________________________\n",
      "hidden_layer3 (Dense)        (None, 128)               32896     \n",
      "_________________________________________________________________\n",
      "output (Dense)               (None, 10)                1290      \n",
      "=================================================================\n",
      "Total params: 1,738,890\n",
      "Trainable params: 1,738,890\n",
      "Non-trainable params: 0\n",
      "_________________________________________________________________\n"
     ]
    }
   ],
   "source": [
    "\"\"\"Code Here\n",
    "建立你的神經網路\n",
    "\"\"\"\n",
    "def build_mlp(input_shape, output_units=10, num_neurons=[512, 256, 128]):\n",
    "    input_layer = keras.layers.Input(input_shape)\n",
    "    \n",
    "    for i, n_units in enumerate(num_neurons):\n",
    "        if i == 0:\n",
    "            x = keras.layers.Dense(units=n_units, activation=\"relu\", name=\"hidden_layer\"+str(i+1))(input_layer)\n",
    "        else:\n",
    "            x = keras.layers.Dense(units=n_units, activation=\"relu\", name=\"hidden_layer\"+str(i+1))(x)\n",
    "    \n",
    "    out = keras.layers.Dense(units=output_units, activation=\"softmax\", name=\"output\")(x)\n",
    "    \n",
    "    model = keras.models.Model(inputs=[input_layer], outputs=[out])\n",
    "    return model\n",
    "model = build_mlp(input_shape=x_train.shape[1:])\n",
    "model.summary()"
   ]
  },
  {
   "cell_type": "code",
   "execution_count": 12,
   "metadata": {},
   "outputs": [],
   "source": [
    "## 超參數設定\n",
    "LEARNING_RATE = 0.001\n",
    "EPOCHS = 100\n",
    "BATCH_SIZE = 256"
   ]
  },
  {
   "cell_type": "code",
   "execution_count": 13,
   "metadata": {},
   "outputs": [
    {
     "name": "stderr",
     "output_type": "stream",
     "text": [
      "W0801 20:28:39.545556  5252 module_wrapper.py:136] From C:\\Users\\User\\Anaconda3\\lib\\site-packages\\tensorflow_core\\python\\util\\module_wrapper.py:163: The name tf.train.Optimizer is deprecated. Please use tf.compat.v1.train.Optimizer instead.\n",
      "\n"
     ]
    }
   ],
   "source": [
    "optimizer = keras.optimizers.Adam(lr=LEARNING_RATE)\n",
    "model.compile(loss=\"categorical_crossentropy\", metrics=[\"accuracy\"], optimizer=optimizer)"
   ]
  },
  {
   "cell_type": "code",
   "execution_count": 14,
   "metadata": {},
   "outputs": [
    {
     "name": "stderr",
     "output_type": "stream",
     "text": [
      "W0801 20:28:41.269943  5252 deprecation.py:323] From C:\\Users\\User\\Anaconda3\\lib\\site-packages\\tensorflow_core\\python\\ops\\math_grad.py:1423: where (from tensorflow.python.ops.array_ops) is deprecated and will be removed in a future version.\n",
      "Instructions for updating:\n",
      "Use tf.where in 2.0, which has the same broadcast rule as np.where\n"
     ]
    },
    {
     "name": "stdout",
     "output_type": "stream",
     "text": [
      "Train on 50000 samples, validate on 10000 samples\n",
      "Epoch 1/100\n",
      "50000/50000 [==============================] - 9s 187us/step - loss: 1.9242 - acc: 0.3056 - val_loss: 1.7562 - val_acc: 0.3745\n",
      "Epoch 2/100\n",
      "50000/50000 [==============================] - 9s 178us/step - loss: 1.7226 - acc: 0.3848 - val_loss: 1.6479 - val_acc: 0.4166\n",
      "Epoch 3/100\n",
      "50000/50000 [==============================] - 9s 174us/step - loss: 1.6239 - acc: 0.4190 - val_loss: 1.6110 - val_acc: 0.4269\n",
      "Epoch 4/100\n",
      "50000/50000 [==============================] - 9s 176us/step - loss: 1.5571 - acc: 0.4436 - val_loss: 1.5479 - val_acc: 0.4460\n",
      "Epoch 5/100\n",
      "50000/50000 [==============================] - 9s 178us/step - loss: 1.5125 - acc: 0.4594 - val_loss: 1.5085 - val_acc: 0.4633\n",
      "Epoch 6/100\n",
      "50000/50000 [==============================] - 9s 176us/step - loss: 1.4694 - acc: 0.4765 - val_loss: 1.4760 - val_acc: 0.4752\n",
      "Epoch 7/100\n",
      "50000/50000 [==============================] - 9s 179us/step - loss: 1.4351 - acc: 0.4881 - val_loss: 1.4733 - val_acc: 0.4768\n",
      "Epoch 8/100\n",
      "50000/50000 [==============================] - 9s 177us/step - loss: 1.4146 - acc: 0.4953 - val_loss: 1.4706 - val_acc: 0.4776\n",
      "Epoch 9/100\n",
      "50000/50000 [==============================] - 9s 177us/step - loss: 1.3840 - acc: 0.5062 - val_loss: 1.5014 - val_acc: 0.4757\n",
      "Epoch 10/100\n",
      "50000/50000 [==============================] - 9s 177us/step - loss: 1.3654 - acc: 0.5137 - val_loss: 1.4510 - val_acc: 0.4761\n",
      "Epoch 11/100\n",
      "50000/50000 [==============================] - 9s 176us/step - loss: 1.3343 - acc: 0.5233 - val_loss: 1.3971 - val_acc: 0.5073\n",
      "Epoch 12/100\n",
      "50000/50000 [==============================] - 9s 173us/step - loss: 1.2995 - acc: 0.5363 - val_loss: 1.4201 - val_acc: 0.5007\n",
      "Epoch 13/100\n",
      "50000/50000 [==============================] - 9s 174us/step - loss: 1.2837 - acc: 0.5416 - val_loss: 1.4024 - val_acc: 0.5024\n",
      "Epoch 14/100\n",
      "50000/50000 [==============================] - 9s 180us/step - loss: 1.2496 - acc: 0.5546 - val_loss: 1.4106 - val_acc: 0.5075\n",
      "Epoch 15/100\n",
      "50000/50000 [==============================] - 9s 180us/step - loss: 1.2374 - acc: 0.5603 - val_loss: 1.4714 - val_acc: 0.4914\n",
      "Epoch 16/100\n",
      "50000/50000 [==============================] - 9s 187us/step - loss: 1.2092 - acc: 0.5698 - val_loss: 1.4155 - val_acc: 0.5124\n",
      "Epoch 17/100\n",
      "50000/50000 [==============================] - 9s 182us/step - loss: 1.1921 - acc: 0.5726 - val_loss: 1.3785 - val_acc: 0.5160\n",
      "Epoch 18/100\n",
      "50000/50000 [==============================] - 9s 181us/step - loss: 1.1719 - acc: 0.5804 - val_loss: 1.3559 - val_acc: 0.5290\n",
      "Epoch 19/100\n",
      "50000/50000 [==============================] - 9s 178us/step - loss: 1.1455 - acc: 0.5887 - val_loss: 1.3637 - val_acc: 0.5260\n",
      "Epoch 20/100\n",
      "50000/50000 [==============================] - 9s 183us/step - loss: 1.1341 - acc: 0.5959 - val_loss: 1.3924 - val_acc: 0.5166\n",
      "Epoch 21/100\n",
      "50000/50000 [==============================] - 9s 183us/step - loss: 1.1066 - acc: 0.6064 - val_loss: 1.3789 - val_acc: 0.5248\n",
      "Epoch 22/100\n",
      "50000/50000 [==============================] - 9s 185us/step - loss: 1.0881 - acc: 0.6120 - val_loss: 1.3693 - val_acc: 0.5279\n",
      "Epoch 23/100\n",
      "50000/50000 [==============================] - 9s 185us/step - loss: 1.0694 - acc: 0.6182 - val_loss: 1.3935 - val_acc: 0.5208\n",
      "Epoch 24/100\n",
      "50000/50000 [==============================] - 9s 183us/step - loss: 1.0484 - acc: 0.6255 - val_loss: 1.3758 - val_acc: 0.5320\n",
      "Epoch 25/100\n",
      "50000/50000 [==============================] - 9s 184us/step - loss: 1.0265 - acc: 0.6348 - val_loss: 1.3966 - val_acc: 0.5287\n",
      "Epoch 26/100\n",
      "50000/50000 [==============================] - 9s 184us/step - loss: 1.0136 - acc: 0.6373 - val_loss: 1.4070 - val_acc: 0.5259\n",
      "Epoch 27/100\n",
      "50000/50000 [==============================] - 9s 184us/step - loss: 0.9916 - acc: 0.6458 - val_loss: 1.4457 - val_acc: 0.5225\n",
      "Epoch 28/100\n",
      "50000/50000 [==============================] - 9s 186us/step - loss: 0.9888 - acc: 0.6463 - val_loss: 1.4036 - val_acc: 0.5254\n",
      "Epoch 29/100\n",
      "50000/50000 [==============================] - 9s 186us/step - loss: 0.9654 - acc: 0.6558 - val_loss: 1.4167 - val_acc: 0.5332\n",
      "Epoch 30/100\n",
      "50000/50000 [==============================] - 9s 186us/step - loss: 0.9529 - acc: 0.6586 - val_loss: 1.4227 - val_acc: 0.5298\n",
      "Epoch 31/100\n",
      "50000/50000 [==============================] - 9s 184us/step - loss: 0.9174 - acc: 0.6724 - val_loss: 1.4470 - val_acc: 0.5295\n",
      "Epoch 32/100\n",
      "50000/50000 [==============================] - 9s 185us/step - loss: 0.9010 - acc: 0.6779 - val_loss: 1.4842 - val_acc: 0.5235\n",
      "Epoch 33/100\n",
      "50000/50000 [==============================] - 9s 184us/step - loss: 0.8915 - acc: 0.6824 - val_loss: 1.4842 - val_acc: 0.5209\n",
      "Epoch 34/100\n",
      "50000/50000 [==============================] - 9s 176us/step - loss: 0.8687 - acc: 0.6889 - val_loss: 1.4712 - val_acc: 0.5262\n",
      "Epoch 35/100\n",
      "50000/50000 [==============================] - 9s 178us/step - loss: 0.8497 - acc: 0.6969 - val_loss: 1.5039 - val_acc: 0.5233\n",
      "Epoch 36/100\n",
      "50000/50000 [==============================] - 9s 177us/step - loss: 0.8416 - acc: 0.6986 - val_loss: 1.5177 - val_acc: 0.5151\n",
      "Epoch 37/100\n",
      "50000/50000 [==============================] - 9s 176us/step - loss: 0.8264 - acc: 0.7052 - val_loss: 1.5357 - val_acc: 0.5169\n",
      "Epoch 38/100\n",
      "50000/50000 [==============================] - 9s 177us/step - loss: 0.8126 - acc: 0.7109 - val_loss: 1.5325 - val_acc: 0.5241\n",
      "Epoch 39/100\n",
      "50000/50000 [==============================] - 9s 176us/step - loss: 0.7802 - acc: 0.7191 - val_loss: 1.6004 - val_acc: 0.5104\n",
      "Epoch 40/100\n",
      "50000/50000 [==============================] - 9s 174us/step - loss: 0.7657 - acc: 0.7278 - val_loss: 1.5997 - val_acc: 0.5114\n",
      "Epoch 41/100\n",
      "50000/50000 [==============================] - 9s 173us/step - loss: 0.7600 - acc: 0.7281 - val_loss: 1.5949 - val_acc: 0.5237\n",
      "Epoch 42/100\n",
      "50000/50000 [==============================] - 9s 176us/step - loss: 0.7456 - acc: 0.7334 - val_loss: 1.6468 - val_acc: 0.5091\n",
      "Epoch 43/100\n",
      "50000/50000 [==============================] - 9s 177us/step - loss: 0.7256 - acc: 0.7404 - val_loss: 1.6621 - val_acc: 0.5132\n",
      "Epoch 44/100\n",
      "50000/50000 [==============================] - 9s 176us/step - loss: 0.7251 - acc: 0.7413 - val_loss: 1.6735 - val_acc: 0.5179\n",
      "Epoch 45/100\n",
      "50000/50000 [==============================] - 9s 174us/step - loss: 0.7023 - acc: 0.7481 - val_loss: 1.6656 - val_acc: 0.5226\n",
      "Epoch 46/100\n",
      "50000/50000 [==============================] - 9s 173us/step - loss: 0.6919 - acc: 0.7525 - val_loss: 1.6847 - val_acc: 0.5238\n",
      "Epoch 47/100\n",
      "50000/50000 [==============================] - 9s 175us/step - loss: 0.6744 - acc: 0.7606 - val_loss: 1.7574 - val_acc: 0.5166\n",
      "Epoch 48/100\n",
      "50000/50000 [==============================] - 9s 173us/step - loss: 0.6537 - acc: 0.7654 - val_loss: 1.8007 - val_acc: 0.5168\n",
      "Epoch 49/100\n",
      "50000/50000 [==============================] - 9s 172us/step - loss: 0.6461 - acc: 0.7686 - val_loss: 1.7964 - val_acc: 0.5107\n",
      "Epoch 50/100\n",
      "50000/50000 [==============================] - 9s 171us/step - loss: 0.6466 - acc: 0.7691 - val_loss: 1.8145 - val_acc: 0.5182\n",
      "Epoch 51/100\n",
      "50000/50000 [==============================] - 9s 174us/step - loss: 0.6248 - acc: 0.7757 - val_loss: 1.8576 - val_acc: 0.5089\n",
      "Epoch 52/100\n",
      "50000/50000 [==============================] - 9s 175us/step - loss: 0.6059 - acc: 0.7835 - val_loss: 1.8244 - val_acc: 0.5244\n",
      "Epoch 53/100\n",
      "50000/50000 [==============================] - 9s 179us/step - loss: 0.5969 - acc: 0.7866 - val_loss: 1.8345 - val_acc: 0.5178\n",
      "Epoch 54/100\n",
      "50000/50000 [==============================] - 9s 187us/step - loss: 0.5863 - acc: 0.7911 - val_loss: 1.8847 - val_acc: 0.5173\n",
      "Epoch 55/100\n",
      "50000/50000 [==============================] - 9s 190us/step - loss: 0.5742 - acc: 0.7947 - val_loss: 1.8868 - val_acc: 0.5211\n",
      "Epoch 56/100\n",
      "50000/50000 [==============================] - 9s 187us/step - loss: 0.5561 - acc: 0.8010 - val_loss: 1.9830 - val_acc: 0.5153\n",
      "Epoch 57/100\n",
      "50000/50000 [==============================] - 9s 182us/step - loss: 0.5538 - acc: 0.8017 - val_loss: 2.0113 - val_acc: 0.5131\n",
      "Epoch 58/100\n",
      "50000/50000 [==============================] - 9s 176us/step - loss: 0.5266 - acc: 0.8113 - val_loss: 2.0427 - val_acc: 0.5091\n",
      "Epoch 59/100\n"
     ]
    },
    {
     "name": "stdout",
     "output_type": "stream",
     "text": [
      "50000/50000 [==============================] - 9s 176us/step - loss: 0.5329 - acc: 0.8100 - val_loss: 2.0886 - val_acc: 0.5053\n",
      "Epoch 60/100\n",
      "50000/50000 [==============================] - 9s 176us/step - loss: 0.5282 - acc: 0.8100 - val_loss: 2.0654 - val_acc: 0.5095\n",
      "Epoch 61/100\n",
      "50000/50000 [==============================] - 9s 176us/step - loss: 0.5151 - acc: 0.8159 - val_loss: 2.1305 - val_acc: 0.5118\n",
      "Epoch 62/100\n",
      "50000/50000 [==============================] - 9s 174us/step - loss: 0.5129 - acc: 0.8143 - val_loss: 2.0996 - val_acc: 0.5086\n",
      "Epoch 63/100\n",
      "50000/50000 [==============================] - 9s 176us/step - loss: 0.5019 - acc: 0.8179 - val_loss: 2.1679 - val_acc: 0.5090\n",
      "Epoch 64/100\n",
      "50000/50000 [==============================] - 9s 177us/step - loss: 0.4838 - acc: 0.8276 - val_loss: 2.1717 - val_acc: 0.5144\n",
      "Epoch 65/100\n",
      "50000/50000 [==============================] - 9s 175us/step - loss: 0.4760 - acc: 0.8305 - val_loss: 2.2605 - val_acc: 0.5066\n",
      "Epoch 66/100\n",
      "50000/50000 [==============================] - 9s 175us/step - loss: 0.4585 - acc: 0.8361 - val_loss: 2.2329 - val_acc: 0.5166\n",
      "Epoch 67/100\n",
      "50000/50000 [==============================] - 9s 176us/step - loss: 0.4471 - acc: 0.8409 - val_loss: 2.3001 - val_acc: 0.5035\n",
      "Epoch 68/100\n",
      "50000/50000 [==============================] - 9s 180us/step - loss: 0.4487 - acc: 0.8384 - val_loss: 2.2791 - val_acc: 0.5108\n",
      "Epoch 69/100\n",
      "50000/50000 [==============================] - 9s 179us/step - loss: 0.4514 - acc: 0.8392 - val_loss: 2.3259 - val_acc: 0.5033\n",
      "Epoch 70/100\n",
      "50000/50000 [==============================] - 9s 178us/step - loss: 0.4385 - acc: 0.8437 - val_loss: 2.3873 - val_acc: 0.5126\n",
      "Epoch 71/100\n",
      "50000/50000 [==============================] - 9s 173us/step - loss: 0.4392 - acc: 0.8426 - val_loss: 2.3129 - val_acc: 0.5134\n",
      "Epoch 72/100\n",
      "50000/50000 [==============================] - 9s 176us/step - loss: 0.4318 - acc: 0.8450 - val_loss: 2.3287 - val_acc: 0.5107\n",
      "Epoch 73/100\n",
      "50000/50000 [==============================] - 9s 178us/step - loss: 0.4104 - acc: 0.8539 - val_loss: 2.3713 - val_acc: 0.5166\n",
      "Epoch 74/100\n",
      "50000/50000 [==============================] - 9s 179us/step - loss: 0.3943 - acc: 0.8598 - val_loss: 2.4274 - val_acc: 0.5108\n",
      "Epoch 75/100\n",
      "50000/50000 [==============================] - 9s 178us/step - loss: 0.4116 - acc: 0.8514 - val_loss: 2.4590 - val_acc: 0.5148\n",
      "Epoch 76/100\n",
      "50000/50000 [==============================] - 9s 176us/step - loss: 0.3987 - acc: 0.8551 - val_loss: 2.5145 - val_acc: 0.5036\n",
      "Epoch 77/100\n",
      "50000/50000 [==============================] - 9s 174us/step - loss: 0.3938 - acc: 0.8584 - val_loss: 2.5787 - val_acc: 0.5019\n",
      "Epoch 78/100\n",
      "50000/50000 [==============================] - 9s 178us/step - loss: 0.3580 - acc: 0.8738 - val_loss: 2.5611 - val_acc: 0.5052\n",
      "Epoch 79/100\n",
      "50000/50000 [==============================] - 9s 181us/step - loss: 0.3626 - acc: 0.8715 - val_loss: 2.5943 - val_acc: 0.5014\n",
      "Epoch 80/100\n",
      "50000/50000 [==============================] - 9s 182us/step - loss: 0.4037 - acc: 0.8552 - val_loss: 2.5795 - val_acc: 0.5016\n",
      "Epoch 81/100\n",
      "50000/50000 [==============================] - 9s 183us/step - loss: 0.3866 - acc: 0.8600 - val_loss: 2.5783 - val_acc: 0.5065\n",
      "Epoch 82/100\n",
      "50000/50000 [==============================] - 9s 179us/step - loss: 0.3644 - acc: 0.8683 - val_loss: 2.6185 - val_acc: 0.5075\n",
      "Epoch 83/100\n",
      "50000/50000 [==============================] - 9s 176us/step - loss: 0.3501 - acc: 0.8738 - val_loss: 2.6604 - val_acc: 0.5044\n",
      "Epoch 84/100\n",
      "50000/50000 [==============================] - 9s 180us/step - loss: 0.3335 - acc: 0.8801 - val_loss: 2.7137 - val_acc: 0.5058\n",
      "Epoch 85/100\n",
      "50000/50000 [==============================] - 9s 179us/step - loss: 0.3399 - acc: 0.8763 - val_loss: 2.8391 - val_acc: 0.4986\n",
      "Epoch 86/100\n",
      "50000/50000 [==============================] - 9s 179us/step - loss: 0.3503 - acc: 0.8738 - val_loss: 2.7356 - val_acc: 0.5030\n",
      "Epoch 87/100\n",
      "50000/50000 [==============================] - 9s 178us/step - loss: 0.3417 - acc: 0.8770 - val_loss: 2.8123 - val_acc: 0.5060\n",
      "Epoch 88/100\n",
      "50000/50000 [==============================] - 9s 178us/step - loss: 0.3276 - acc: 0.8832 - val_loss: 2.7180 - val_acc: 0.5048\n",
      "Epoch 89/100\n",
      "50000/50000 [==============================] - 9s 185us/step - loss: 0.3433 - acc: 0.8760 - val_loss: 2.7952 - val_acc: 0.5063\n",
      "Epoch 90/100\n",
      "50000/50000 [==============================] - 9s 185us/step - loss: 0.3324 - acc: 0.8809 - val_loss: 2.8529 - val_acc: 0.5078\n",
      "Epoch 91/100\n",
      "50000/50000 [==============================] - 9s 185us/step - loss: 0.3390 - acc: 0.8770 - val_loss: 2.9181 - val_acc: 0.4969\n",
      "Epoch 92/100\n",
      "50000/50000 [==============================] - 9s 184us/step - loss: 0.3281 - acc: 0.8813 - val_loss: 2.8132 - val_acc: 0.5067\n",
      "Epoch 93/100\n",
      "50000/50000 [==============================] - 9s 185us/step - loss: 0.3049 - acc: 0.8907 - val_loss: 2.8895 - val_acc: 0.5041\n",
      "Epoch 94/100\n",
      "50000/50000 [==============================] - 9s 186us/step - loss: 0.3125 - acc: 0.8869 - val_loss: 2.9385 - val_acc: 0.4998\n",
      "Epoch 95/100\n",
      "50000/50000 [==============================] - 9s 186us/step - loss: 0.3177 - acc: 0.8853 - val_loss: 2.8988 - val_acc: 0.4975\n",
      "Epoch 96/100\n",
      "50000/50000 [==============================] - 9s 183us/step - loss: 0.2866 - acc: 0.8975 - val_loss: 3.0137 - val_acc: 0.4987\n",
      "Epoch 97/100\n",
      "50000/50000 [==============================] - 9s 181us/step - loss: 0.2914 - acc: 0.8955 - val_loss: 2.9869 - val_acc: 0.5084\n",
      "Epoch 98/100\n",
      "50000/50000 [==============================] - 9s 185us/step - loss: 0.2945 - acc: 0.8950 - val_loss: 3.0620 - val_acc: 0.5078\n",
      "Epoch 99/100\n",
      "50000/50000 [==============================] - 9s 185us/step - loss: 0.2896 - acc: 0.8971 - val_loss: 2.9760 - val_acc: 0.5012\n",
      "Epoch 100/100\n",
      "50000/50000 [==============================] - 9s 185us/step - loss: 0.3033 - acc: 0.8906 - val_loss: 3.0477 - val_acc: 0.5030\n"
     ]
    },
    {
     "data": {
      "text/plain": [
       "<keras.callbacks.History at 0x1f756202048>"
      ]
     },
     "execution_count": 14,
     "metadata": {},
     "output_type": "execute_result"
    }
   ],
   "source": [
    "model.fit(x_train, y_train, \n",
    "          epochs=EPOCHS, \n",
    "          batch_size=BATCH_SIZE, \n",
    "          validation_data=(x_test, y_test), \n",
    "          shuffle=True)"
   ]
  },
  {
   "cell_type": "code",
   "execution_count": 12,
   "metadata": {
    "scrolled": true
   },
   "outputs": [
    {
     "data": {
      "image/png": "[encoded data removed]",
      "text/plain": [
       "<Figure size 432x288 with 1 Axes>"
      ]
     },
     "metadata": {},
     "output_type": "display_data"
    },
    {
     "data": {
      "image/png": "[encoded data removed]",
      "text/plain": [
       "<Figure size 432x288 with 1 Axes>"
      ]
     },
     "metadata": {},
     "output_type": "display_data"
    }
   ],
   "source": [
    "import matplotlib.pyplot as plt\n",
    "\n",
    "\n",
    "train_loss = model.history.history[\"loss\"]\n",
    "valid_loss = model.history.history[\"val_loss\"]\n",
    "\n",
    "train_acc = model.history.history[\"acc\"]\n",
    "valid_acc = model.history.history[\"val_acc\"]\n",
    "\n",
    "plt.plot(range(len(train_loss)), train_loss, label=\"train loss\")\n",
    "plt.plot(range(len(valid_loss)), valid_loss, label=\"valid loss\")\n",
    "plt.legend()\n",
    "plt.title(\"Loss\")\n",
    "plt.show()\n",
    "\n",
    "plt.plot(range(len(train_acc)), train_acc, label=\"train accuracy\")\n",
    "plt.plot(range(len(valid_acc)), valid_acc, label=\"valid accuracy\")\n",
    "plt.legend()\n",
    "plt.title(\"Accuracy\")\n",
    "plt.show()"
   ]
  },
  {
   "cell_type": "code",
   "execution_count": 16,
   "metadata": {},
   "outputs": [
    {
     "data": {
      "image/png": "[encoded data removed]",
      "text/plain": [
       "<Figure size 432x288 with 1 Axes>"
      ]
     },
     "metadata": {
      "needs_background": "light"
     },
     "output_type": "display_data"
    },
    {
     "data": {
      "image/png": "[encoded data removed]",
      "text/plain": [
       "<Figure size 432x288 with 1 Axes>"
      ]
     },
     "metadata": {
      "needs_background": "light"
     },
     "output_type": "display_data"
    }
   ],
   "source": [
    "import matplotlib.pyplot as plt\n",
    "\n",
    "\n",
    "train_loss = model.history.history[\"loss\"]\n",
    "valid_loss = model.history.history[\"val_loss\"]\n",
    "\n",
    "train_acc = model.history.history[\"acc\"]\n",
    "valid_acc = model.history.history[\"val_acc\"]\n",
    "\n",
    "plt.plot(range(len(train_loss)), train_loss, label=\"train loss\")\n",
    "plt.plot(range(len(valid_loss)), valid_loss, label=\"valid loss\")\n",
    "plt.legend()\n",
    "plt.title(\"Loss\")\n",
    "plt.show()\n",
    "\n",
    "plt.plot(range(len(train_acc)), train_acc, label=\"train accuracy\")\n",
    "plt.plot(range(len(valid_acc)), valid_acc, label=\"valid accuracy\")\n",
    "plt.legend()\n",
    "plt.title(\"Accuracy\")\n",
    "plt.show()"
   ]
  },
  {
   "cell_type": "code",
   "execution_count": null,
   "metadata": {},
   "outputs": [],
   "source": []
  },
  {
   "cell_type": "code",
   "execution_count": 17,
   "metadata": {},
   "outputs": [
    {
     "name": "stdout",
     "output_type": "stream",
     "text": [
      "_________________________________________________________________\n",
      "Layer (type)                 Output Shape              Param #   \n",
      "=================================================================\n",
      "input_3 (InputLayer)         (None, 3072)              0         \n",
      "_________________________________________________________________\n",
      "hidden_layer1 (Dense)        (None, 512)               1573376   \n",
      "_________________________________________________________________\n",
      "hidden_layer2 (Dense)        (None, 256)               131328    \n",
      "_________________________________________________________________\n",
      "hidden_layer3 (Dense)        (None, 128)               32896     \n",
      "_________________________________________________________________\n",
      "hidden_layer4 (Dense)        (None, 64)                8256      \n",
      "_________________________________________________________________\n",
      "hidden_layer5 (Dense)        (None, 32)                2080      \n",
      "_________________________________________________________________\n",
      "output (Dense)               (None, 10)                330       \n",
      "=================================================================\n",
      "Total params: 1,748,266\n",
      "Trainable params: 1,748,266\n",
      "Non-trainable params: 0\n",
      "_________________________________________________________________\n"
     ]
    }
   ],
   "source": [
    "def build_mlp(input_shape, output_units=10, num_neurons=[512, 256, 128, 64, 32]):\n",
    "    input_layer = keras.layers.Input(input_shape)\n",
    "    \n",
    "    for i, n_units in enumerate(num_neurons):\n",
    "        if i == 0:\n",
    "            x = keras.layers.Dense(units=n_units, activation=\"relu\", name=\"hidden_layer\"+str(i+1))(input_layer)\n",
    "        else:\n",
    "            x = keras.layers.Dense(units=n_units, activation=\"relu\", name=\"hidden_layer\"+str(i+1))(x)\n",
    "    \n",
    "    out = keras.layers.Dense(units=output_units, activation=\"softmax\", name=\"output\")(x)\n",
    "    \n",
    "    model = keras.models.Model(inputs=[input_layer], outputs=[out])\n",
    "    return model\n",
    "model = build_mlp(input_shape=x_train.shape[1:])\n",
    "model.summary()"
   ]
  },
  {
   "cell_type": "code",
   "execution_count": 18,
   "metadata": {},
   "outputs": [],
   "source": [
    "## 超參數設定\n",
    "LEARNING_RATE = 0.001\n",
    "EPOCHS = 100\n",
    "BATCH_SIZE = 256"
   ]
  },
  {
   "cell_type": "code",
   "execution_count": 19,
   "metadata": {},
   "outputs": [],
   "source": [
    "optimizer = keras.optimizers.Adam(lr=LEARNING_RATE)\n",
    "model.compile(loss=\"categorical_crossentropy\", metrics=[\"accuracy\"], optimizer=optimizer)"
   ]
  },
  {
   "cell_type": "code",
   "execution_count": 20,
   "metadata": {},
   "outputs": [
    {
     "name": "stdout",
     "output_type": "stream",
     "text": [
      "Train on 50000 samples, validate on 10000 samples\n",
      "Epoch 1/100\n",
      "50000/50000 [==============================] - 10s 195us/step - loss: 1.9874 - acc: 0.2741 - val_loss: 1.9048 - val_acc: 0.2998\n",
      "Epoch 2/100\n",
      "50000/50000 [==============================] - 9s 187us/step - loss: 1.7747 - acc: 0.3570 - val_loss: 1.7059 - val_acc: 0.3920\n",
      "Epoch 3/100\n",
      "50000/50000 [==============================] - 9s 185us/step - loss: 1.6790 - acc: 0.3965 - val_loss: 1.6934 - val_acc: 0.3950\n",
      "Epoch 4/100\n",
      "50000/50000 [==============================] - 9s 184us/step - loss: 1.6223 - acc: 0.4192 - val_loss: 1.5752 - val_acc: 0.4345\n",
      "Epoch 5/100\n",
      "50000/50000 [==============================] - 9s 183us/step - loss: 1.5652 - acc: 0.4376 - val_loss: 1.5363 - val_acc: 0.4568\n",
      "Epoch 6/100\n",
      "50000/50000 [==============================] - 9s 184us/step - loss: 1.5174 - acc: 0.4564 - val_loss: 1.5420 - val_acc: 0.4546\n",
      "Epoch 7/100\n",
      "50000/50000 [==============================] - 9s 180us/step - loss: 1.4732 - acc: 0.4754 - val_loss: 1.5188 - val_acc: 0.4584\n",
      "Epoch 8/100\n",
      "50000/50000 [==============================] - 9s 179us/step - loss: 1.4428 - acc: 0.4844 - val_loss: 1.4697 - val_acc: 0.4778\n",
      "Epoch 9/100\n",
      "50000/50000 [==============================] - 9s 179us/step - loss: 1.4211 - acc: 0.4939 - val_loss: 1.4358 - val_acc: 0.4871\n",
      "Epoch 10/100\n",
      "50000/50000 [==============================] - 9s 183us/step - loss: 1.3962 - acc: 0.5014 - val_loss: 1.4379 - val_acc: 0.4893\n",
      "Epoch 11/100\n",
      "50000/50000 [==============================] - 9s 184us/step - loss: 1.3655 - acc: 0.5133 - val_loss: 1.4991 - val_acc: 0.4714\n",
      "Epoch 12/100\n",
      "50000/50000 [==============================] - 9s 184us/step - loss: 1.3445 - acc: 0.5214 - val_loss: 1.4115 - val_acc: 0.4947\n",
      "Epoch 13/100\n",
      "50000/50000 [==============================] - 9s 184us/step - loss: 1.3145 - acc: 0.5309 - val_loss: 1.4405 - val_acc: 0.4835\n",
      "Epoch 14/100\n",
      "50000/50000 [==============================] - 9s 184us/step - loss: 1.2893 - acc: 0.5418 - val_loss: 1.3904 - val_acc: 0.5067\n",
      "Epoch 15/100\n",
      "50000/50000 [==============================] - 9s 183us/step - loss: 1.2685 - acc: 0.5479 - val_loss: 1.3993 - val_acc: 0.5044\n",
      "Epoch 16/100\n",
      "50000/50000 [==============================] - 9s 184us/step - loss: 1.2512 - acc: 0.5555 - val_loss: 1.3972 - val_acc: 0.5014\n",
      "Epoch 17/100\n",
      "50000/50000 [==============================] - 9s 185us/step - loss: 1.2230 - acc: 0.5649 - val_loss: 1.3771 - val_acc: 0.5185\n",
      "Epoch 18/100\n",
      "50000/50000 [==============================] - 9s 184us/step - loss: 1.2128 - acc: 0.5664 - val_loss: 1.4063 - val_acc: 0.5106\n",
      "Epoch 19/100\n",
      "50000/50000 [==============================] - 9s 185us/step - loss: 1.1889 - acc: 0.5738 - val_loss: 1.3956 - val_acc: 0.5042\n",
      "Epoch 20/100\n",
      "50000/50000 [==============================] - 9s 184us/step - loss: 1.1644 - acc: 0.5856 - val_loss: 1.3727 - val_acc: 0.5184\n",
      "Epoch 21/100\n",
      "50000/50000 [==============================] - 9s 186us/step - loss: 1.1475 - acc: 0.5910 - val_loss: 1.3852 - val_acc: 0.5146\n",
      "Epoch 22/100\n",
      "50000/50000 [==============================] - 9s 185us/step - loss: 1.1215 - acc: 0.6006 - val_loss: 1.3561 - val_acc: 0.5222\n",
      "Epoch 23/100\n",
      "50000/50000 [==============================] - 9s 184us/step - loss: 1.0994 - acc: 0.6097 - val_loss: 1.3671 - val_acc: 0.5194\n",
      "Epoch 24/100\n",
      "50000/50000 [==============================] - 5s 106us/step - loss: 1.0845 - acc: 0.6125 - val_loss: 1.4295 - val_acc: 0.5084\n",
      "Epoch 25/100\n",
      "50000/50000 [==============================] - 5s 105us/step - loss: 1.0657 - acc: 0.6174 - val_loss: 1.4164 - val_acc: 0.5143\n",
      "Epoch 26/100\n",
      "50000/50000 [==============================] - 5s 105us/step - loss: 1.0563 - acc: 0.6221 - val_loss: 1.3777 - val_acc: 0.5249\n",
      "Epoch 27/100\n",
      "50000/50000 [==============================] - 5s 104us/step - loss: 1.0347 - acc: 0.6319 - val_loss: 1.3699 - val_acc: 0.5253\n",
      "Epoch 28/100\n",
      "50000/50000 [==============================] - 5s 103us/step - loss: 1.0114 - acc: 0.6386 - val_loss: 1.4141 - val_acc: 0.5181\n",
      "Epoch 29/100\n",
      "50000/50000 [==============================] - 5s 102us/step - loss: 1.0013 - acc: 0.6428 - val_loss: 1.3992 - val_acc: 0.5238\n",
      "Epoch 30/100\n",
      "50000/50000 [==============================] - 5s 103us/step - loss: 0.9772 - acc: 0.6507 - val_loss: 1.4468 - val_acc: 0.5109\n",
      "Epoch 31/100\n",
      "50000/50000 [==============================] - 5s 102us/step - loss: 0.9612 - acc: 0.6569 - val_loss: 1.4286 - val_acc: 0.5193\n",
      "Epoch 32/100\n",
      "50000/50000 [==============================] - 5s 103us/step - loss: 0.9546 - acc: 0.6588 - val_loss: 1.4489 - val_acc: 0.5173\n",
      "Epoch 33/100\n",
      "50000/50000 [==============================] - 5s 102us/step - loss: 0.9250 - acc: 0.6690 - val_loss: 1.4841 - val_acc: 0.5078\n",
      "Epoch 34/100\n",
      "50000/50000 [==============================] - 5s 101us/step - loss: 0.9082 - acc: 0.6754 - val_loss: 1.4752 - val_acc: 0.5170\n",
      "Epoch 35/100\n",
      "50000/50000 [==============================] - 5s 102us/step - loss: 0.8899 - acc: 0.6817 - val_loss: 1.5090 - val_acc: 0.5183\n",
      "Epoch 36/100\n",
      "50000/50000 [==============================] - 5s 102us/step - loss: 0.8719 - acc: 0.6861 - val_loss: 1.4979 - val_acc: 0.5186\n",
      "Epoch 37/100\n",
      "50000/50000 [==============================] - 5s 102us/step - loss: 0.8533 - acc: 0.6928 - val_loss: 1.5070 - val_acc: 0.5108\n",
      "Epoch 38/100\n",
      "50000/50000 [==============================] - 5s 107us/step - loss: 0.8471 - acc: 0.6950 - val_loss: 1.5141 - val_acc: 0.5225\n",
      "Epoch 39/100\n",
      "50000/50000 [==============================] - 7s 147us/step - loss: 0.8283 - acc: 0.7047 - val_loss: 1.5014 - val_acc: 0.5233\n",
      "Epoch 40/100\n",
      "50000/50000 [==============================] - 8s 151us/step - loss: 0.7985 - acc: 0.7162 - val_loss: 1.5528 - val_acc: 0.5219\n",
      "Epoch 41/100\n",
      "50000/50000 [==============================] - 8s 155us/step - loss: 0.7915 - acc: 0.7158 - val_loss: 1.6331 - val_acc: 0.5020\n",
      "Epoch 42/100\n",
      "50000/50000 [==============================] - 8s 155us/step - loss: 0.7833 - acc: 0.7184 - val_loss: 1.6807 - val_acc: 0.5050\n",
      "Epoch 43/100\n",
      "50000/50000 [==============================] - 8s 154us/step - loss: 0.7696 - acc: 0.7238 - val_loss: 1.5940 - val_acc: 0.5175\n",
      "Epoch 44/100\n",
      "50000/50000 [==============================] - 8s 154us/step - loss: 0.7666 - acc: 0.7261 - val_loss: 1.6398 - val_acc: 0.5173\n",
      "Epoch 45/100\n",
      "50000/50000 [==============================] - 8s 154us/step - loss: 0.7462 - acc: 0.7322 - val_loss: 1.5984 - val_acc: 0.5208\n",
      "Epoch 46/100\n",
      "50000/50000 [==============================] - 8s 154us/step - loss: 0.7302 - acc: 0.7371 - val_loss: 1.6720 - val_acc: 0.5115\n",
      "Epoch 47/100\n",
      "50000/50000 [==============================] - 8s 156us/step - loss: 0.7125 - acc: 0.7443 - val_loss: 1.7228 - val_acc: 0.5130\n",
      "Epoch 48/100\n",
      "50000/50000 [==============================] - 8s 154us/step - loss: 0.6930 - acc: 0.7508 - val_loss: 1.6777 - val_acc: 0.5144\n",
      "Epoch 49/100\n",
      "50000/50000 [==============================] - 8s 155us/step - loss: 0.6809 - acc: 0.7576 - val_loss: 1.7388 - val_acc: 0.5179\n",
      "Epoch 50/100\n",
      "50000/50000 [==============================] - 8s 155us/step - loss: 0.6591 - acc: 0.7641 - val_loss: 1.7533 - val_acc: 0.5130\n",
      "Epoch 51/100\n",
      "50000/50000 [==============================] - 8s 154us/step - loss: 0.6624 - acc: 0.7614 - val_loss: 1.7830 - val_acc: 0.5144\n",
      "Epoch 52/100\n",
      "50000/50000 [==============================] - 8s 153us/step - loss: 0.6576 - acc: 0.7644 - val_loss: 1.8092 - val_acc: 0.5158\n",
      "Epoch 53/100\n",
      "50000/50000 [==============================] - 8s 156us/step - loss: 0.6375 - acc: 0.7706 - val_loss: 1.8057 - val_acc: 0.5185\n",
      "Epoch 54/100\n",
      "50000/50000 [==============================] - 8s 155us/step - loss: 0.6303 - acc: 0.7713 - val_loss: 1.8625 - val_acc: 0.5078\n",
      "Epoch 55/100\n",
      "50000/50000 [==============================] - 8s 157us/step - loss: 0.6174 - acc: 0.7799 - val_loss: 1.8921 - val_acc: 0.5071\n",
      "Epoch 56/100\n",
      "50000/50000 [==============================] - 8s 156us/step - loss: 0.6148 - acc: 0.7786 - val_loss: 1.8501 - val_acc: 0.5174\n",
      "Epoch 57/100\n",
      "50000/50000 [==============================] - 8s 156us/step - loss: 0.5806 - acc: 0.7913 - val_loss: 1.9714 - val_acc: 0.5164\n",
      "Epoch 58/100\n",
      "50000/50000 [==============================] - 8s 157us/step - loss: 0.5786 - acc: 0.7923 - val_loss: 1.9217 - val_acc: 0.5110\n",
      "Epoch 59/100\n"
     ]
    },
    {
     "name": "stdout",
     "output_type": "stream",
     "text": [
      "50000/50000 [==============================] - 8s 155us/step - loss: 0.5770 - acc: 0.7922 - val_loss: 1.9657 - val_acc: 0.5149\n",
      "Epoch 60/100\n",
      "50000/50000 [==============================] - 8s 155us/step - loss: 0.5660 - acc: 0.7954 - val_loss: 2.0254 - val_acc: 0.5166\n",
      "Epoch 61/100\n",
      "50000/50000 [==============================] - 8s 154us/step - loss: 0.5536 - acc: 0.8028 - val_loss: 2.0129 - val_acc: 0.5153\n",
      "Epoch 62/100\n",
      "50000/50000 [==============================] - 8s 153us/step - loss: 0.5633 - acc: 0.7970 - val_loss: 2.0201 - val_acc: 0.5102\n",
      "Epoch 63/100\n",
      "50000/50000 [==============================] - 8s 156us/step - loss: 0.5401 - acc: 0.8052 - val_loss: 2.0704 - val_acc: 0.5116\n",
      "Epoch 64/100\n",
      "50000/50000 [==============================] - 8s 155us/step - loss: 0.5167 - acc: 0.8158 - val_loss: 2.0931 - val_acc: 0.5079\n",
      "Epoch 65/100\n",
      "50000/50000 [==============================] - 8s 157us/step - loss: 0.5045 - acc: 0.8190 - val_loss: 2.1708 - val_acc: 0.5057\n",
      "Epoch 66/100\n",
      "50000/50000 [==============================] - 8s 155us/step - loss: 0.5106 - acc: 0.8156 - val_loss: 2.1191 - val_acc: 0.5065\n",
      "Epoch 67/100\n",
      "50000/50000 [==============================] - 8s 156us/step - loss: 0.5014 - acc: 0.8207 - val_loss: 2.1606 - val_acc: 0.5113\n",
      "Epoch 68/100\n",
      "50000/50000 [==============================] - 8s 154us/step - loss: 0.5057 - acc: 0.8189 - val_loss: 2.2117 - val_acc: 0.5056\n",
      "Epoch 69/100\n",
      "50000/50000 [==============================] - 8s 156us/step - loss: 0.4889 - acc: 0.8244 - val_loss: 2.2534 - val_acc: 0.5006\n",
      "Epoch 70/100\n",
      "50000/50000 [==============================] - 8s 157us/step - loss: 0.4830 - acc: 0.8274 - val_loss: 2.2208 - val_acc: 0.5085\n",
      "Epoch 71/100\n",
      "50000/50000 [==============================] - 8s 156us/step - loss: 0.4775 - acc: 0.8289 - val_loss: 2.2018 - val_acc: 0.5078\n",
      "Epoch 72/100\n",
      "50000/50000 [==============================] - 8s 156us/step - loss: 0.4470 - acc: 0.8393 - val_loss: 2.2515 - val_acc: 0.5080\n",
      "Epoch 73/100\n",
      "50000/50000 [==============================] - 8s 156us/step - loss: 0.4656 - acc: 0.8322 - val_loss: 2.3387 - val_acc: 0.5032\n",
      "Epoch 74/100\n",
      "50000/50000 [==============================] - 8s 156us/step - loss: 0.4754 - acc: 0.8269 - val_loss: 2.2954 - val_acc: 0.5066\n",
      "Epoch 75/100\n",
      "50000/50000 [==============================] - 8s 151us/step - loss: 0.4391 - acc: 0.8417 - val_loss: 2.3025 - val_acc: 0.5071\n",
      "Epoch 76/100\n",
      "50000/50000 [==============================] - 7s 150us/step - loss: 0.4500 - acc: 0.8394 - val_loss: 2.3652 - val_acc: 0.5035\n",
      "Epoch 77/100\n",
      "50000/50000 [==============================] - 8s 152us/step - loss: 0.4176 - acc: 0.8509 - val_loss: 2.4084 - val_acc: 0.5049\n",
      "Epoch 78/100\n",
      "50000/50000 [==============================] - 7s 150us/step - loss: 0.4217 - acc: 0.8489 - val_loss: 2.5970 - val_acc: 0.4966\n",
      "Epoch 79/100\n",
      "50000/50000 [==============================] - 7s 150us/step - loss: 0.4320 - acc: 0.8438 - val_loss: 2.4890 - val_acc: 0.5004\n",
      "Epoch 80/100\n",
      "50000/50000 [==============================] - 8s 157us/step - loss: 0.4015 - acc: 0.8563 - val_loss: 2.4407 - val_acc: 0.5081\n",
      "Epoch 81/100\n",
      "50000/50000 [==============================] - 8s 157us/step - loss: 0.4251 - acc: 0.8494 - val_loss: 2.4851 - val_acc: 0.5016\n",
      "Epoch 82/100\n",
      "50000/50000 [==============================] - 8s 157us/step - loss: 0.4046 - acc: 0.8559 - val_loss: 2.5489 - val_acc: 0.5067\n",
      "Epoch 83/100\n",
      "50000/50000 [==============================] - 8s 155us/step - loss: 0.4085 - acc: 0.8533 - val_loss: 2.5616 - val_acc: 0.5004\n",
      "Epoch 84/100\n",
      "50000/50000 [==============================] - 8s 157us/step - loss: 0.4157 - acc: 0.8493 - val_loss: 2.5618 - val_acc: 0.5044\n",
      "Epoch 85/100\n",
      "50000/50000 [==============================] - 8s 157us/step - loss: 0.3809 - acc: 0.8630 - val_loss: 2.6489 - val_acc: 0.5027\n",
      "Epoch 86/100\n",
      "50000/50000 [==============================] - 8s 156us/step - loss: 0.3906 - acc: 0.8592 - val_loss: 2.7069 - val_acc: 0.4994\n",
      "Epoch 87/100\n",
      "50000/50000 [==============================] - 8s 157us/step - loss: 0.4159 - acc: 0.8522 - val_loss: 2.5499 - val_acc: 0.5100\n",
      "Epoch 88/100\n",
      "50000/50000 [==============================] - 8s 158us/step - loss: 0.3783 - acc: 0.8642 - val_loss: 2.7035 - val_acc: 0.4899\n",
      "Epoch 89/100\n",
      "50000/50000 [==============================] - 8s 157us/step - loss: 0.3942 - acc: 0.8592 - val_loss: 2.7042 - val_acc: 0.5086\n",
      "Epoch 90/100\n",
      "50000/50000 [==============================] - 8s 155us/step - loss: 0.3623 - acc: 0.8699 - val_loss: 2.7143 - val_acc: 0.4953\n",
      "Epoch 91/100\n",
      "50000/50000 [==============================] - 8s 157us/step - loss: 0.3550 - acc: 0.8737 - val_loss: 2.6166 - val_acc: 0.5090\n",
      "Epoch 92/100\n",
      "50000/50000 [==============================] - 8s 157us/step - loss: 0.3573 - acc: 0.8723 - val_loss: 2.7706 - val_acc: 0.5066\n",
      "Epoch 93/100\n",
      "50000/50000 [==============================] - 8s 156us/step - loss: 0.3532 - acc: 0.8734 - val_loss: 2.7776 - val_acc: 0.5055\n",
      "Epoch 94/100\n",
      "50000/50000 [==============================] - 8s 157us/step - loss: 0.3362 - acc: 0.8811 - val_loss: 2.7889 - val_acc: 0.5023\n",
      "Epoch 95/100\n",
      "50000/50000 [==============================] - 8s 157us/step - loss: 0.3598 - acc: 0.8716 - val_loss: 2.7788 - val_acc: 0.5012\n",
      "Epoch 96/100\n",
      "50000/50000 [==============================] - 8s 156us/step - loss: 0.3348 - acc: 0.8787 - val_loss: 2.8647 - val_acc: 0.5007\n",
      "Epoch 97/100\n",
      "50000/50000 [==============================] - 8s 153us/step - loss: 0.3383 - acc: 0.8792 - val_loss: 2.8401 - val_acc: 0.4999\n",
      "Epoch 98/100\n",
      "50000/50000 [==============================] - 8s 157us/step - loss: 0.3451 - acc: 0.8768 - val_loss: 2.8633 - val_acc: 0.5050\n",
      "Epoch 99/100\n",
      "50000/50000 [==============================] - 8s 157us/step - loss: 0.3309 - acc: 0.8804 - val_loss: 2.9459 - val_acc: 0.4980\n",
      "Epoch 100/100\n",
      "50000/50000 [==============================] - 8s 156us/step - loss: 0.3307 - acc: 0.8822 - val_loss: 2.8766 - val_acc: 0.4987\n"
     ]
    },
    {
     "data": {
      "text/plain": [
       "<keras.callbacks.History at 0x1f75a08c320>"
      ]
     },
     "execution_count": 20,
     "metadata": {},
     "output_type": "execute_result"
    }
   ],
   "source": [
    "model.fit(x_train, y_train, \n",
    "          epochs=EPOCHS, \n",
    "          batch_size=BATCH_SIZE, \n",
    "          validation_data=(x_test, y_test), \n",
    "          shuffle=True)"
   ]
  },
  {
   "cell_type": "code",
   "execution_count": 21,
   "metadata": {},
   "outputs": [
    {
     "data": {
      "image/png": "[encoded data removed]",
      "text/plain": [
       "<Figure size 432x288 with 1 Axes>"
      ]
     },
     "metadata": {
      "needs_background": "light"
     },
     "output_type": "display_data"
    },
    {
     "data": {
      "image/png": "[encoded data removed]",
      "text/plain": [
       "<Figure size 432x288 with 1 Axes>"
      ]
     },
     "metadata": {
      "needs_background": "light"
     },
     "output_type": "display_data"
    }
   ],
   "source": [
    "import matplotlib.pyplot as plt\n",
    "\n",
    "\n",
    "train_loss = model.history.history[\"loss\"]\n",
    "valid_loss = model.history.history[\"val_loss\"]\n",
    "\n",
    "train_acc = model.history.history[\"acc\"]\n",
    "valid_acc = model.history.history[\"val_acc\"]\n",
    "\n",
    "plt.plot(range(len(train_loss)), train_loss, label=\"train loss\")\n",
    "plt.plot(range(len(valid_loss)), valid_loss, label=\"valid loss\")\n",
    "plt.legend()\n",
    "plt.title(\"Loss\")\n",
    "plt.show()\n",
    "\n",
    "plt.plot(range(len(train_acc)), train_acc, label=\"train accuracy\")\n",
    "plt.plot(range(len(valid_acc)), valid_acc, label=\"valid accuracy\")\n",
    "plt.legend()\n",
    "plt.title(\"Accuracy\")\n",
    "plt.show()"
   ]
  },
  {
   "cell_type": "code",
   "execution_count": null,
   "metadata": {},
   "outputs": [],
   "source": []
  }
 ],
 "metadata": {
  "kernelspec": {
   "display_name": "Python 3",
   "language": "python",
   "name": "python3"
  },
  "language_info": {
   "codemirror_mode": {
    "name": "ipython",
    "version": 3
   },
   "file_extension": ".py",
   "mimetype": "text/x-python",
   "name": "python",
   "nbconvert_exporter": "python",
   "pygments_lexer": "ipython3",
   "version": "3.7.3"
  }
 },
 "nbformat": 4,
 "nbformat_minor": 2
}
